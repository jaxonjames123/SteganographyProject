{
 "cells": [
  {
   "cell_type": "code",
   "execution_count": null,
   "metadata": {},
   "outputs": [],
   "source": [
    "# Author: Denisha Pimentel-Sanchez, Jaxon Terrell, Talia Tomarchio\n",
    "# Illustration of image manipulation using the Pillow python library"
   ]
  },
  {
   "cell_type": "code",
   "execution_count": 2,
   "metadata": {},
   "outputs": [],
   "source": [
    "#Importing the python random library to use to generate random pixels\n",
    "import random\n",
    "from decimal import Decimal "
   ]
  },
  {
   "cell_type": "code",
   "execution_count": 28,
   "metadata": {},
   "outputs": [
    {
     "name": "stdout",
     "output_type": "stream",
     "text": [
      "Please enter the filepath of your image: C:\\Users\\jaxon\\OneDrive\\Pictures\\2017-11\\IMG_5624.JPG\n",
      "We will hide text in C:\\Users\\jaxon\\OneDrive\\Pictures\\2017-11\\IMG_5624.JPG\n"
     ]
    }
   ],
   "source": [
    "#Input validation for image, with default image\n",
    "\n",
    "from PIL import Image\n",
    "IMAGE_FILE = \"lila.tiff\"  \n",
    "\n",
    "IMAGE_FILE=str(input(\"Please enter the filepath of your image: \"))\n",
    "\n",
    "if IMAGE_FILE == \"\":\n",
    "    print (\"Invalid entry. Image will default to picutre of a cute dog...\")\n",
    "    IMAGE_FILE=\"lila.tiff\"\n",
    "elif IMAGE_FILE.lower() == \"lila.tiff\".lower():\n",
    "    print (\"Great choice! Loading image of Lila...\")\n",
    "if IMAGE_FILE.lower() != \"lila.tiff\".lower():\n",
    "    print (\"We will hide text in \" + IMAGE_FILE)\n"
   ]
  },
  {
   "cell_type": "code",
   "execution_count": 29,
   "metadata": {},
   "outputs": [],
   "source": [
    "#Opening the orignal image\n",
    "im = Image.open(IMAGE_FILE)"
   ]
  },
  {
   "cell_type": "code",
   "execution_count": 30,
   "metadata": {},
   "outputs": [
    {
     "name": "stdout",
     "output_type": "stream",
     "text": [
      "JPEG (1536, 2048) RGB\n"
     ]
    }
   ],
   "source": [
    "print(im.format, im.size, im.mode)"
   ]
  },
  {
   "cell_type": "code",
   "execution_count": 31,
   "metadata": {},
   "outputs": [],
   "source": [
    "#Creating a function that will convert\n",
    "#each character string to ASCII value and concatenate them\n",
    "#with parameters (string, bit size)\n",
    "def stringToAscii(s, b):\n",
    "    bit = \"%0\" + str(b) + \"d\"\n",
    "    return \"\".join(bit % ord(i) for i in s)"
   ]
  },
  {
   "cell_type": "code",
   "execution_count": 32,
   "metadata": {},
   "outputs": [],
   "source": [
    "im.show()"
   ]
  },
  {
   "cell_type": "code",
   "execution_count": 34,
   "metadata": {},
   "outputs": [
    {
     "name": "stdout",
     "output_type": "stream",
     "text": [
      "Please enter your plaintext messagethis is so cool!\n"
     ]
    }
   ],
   "source": [
    "#Defining the plaintext, bitsizes, seed for random generator\n",
    "#Creating a variable to hold the ascii value of the string\n",
    "plaintext = input(\"Please enter your plaintext message\")\n",
    "bits = 16\n",
    "bitSize = 4 \n",
    "password = \"abc\"\n",
    "ascii_text = stringToAscii(plaintext, 4)"
   ]
  },
  {
   "cell_type": "code",
   "execution_count": 35,
   "metadata": {},
   "outputs": [],
   "source": [
    "def gcd(a,b): \n",
    "    if b==0: \n",
    "        return a \n",
    "    else: \n",
    "        return gcd(b,a%b)"
   ]
  },
  {
   "cell_type": "code",
   "execution_count": 36,
   "metadata": {},
   "outputs": [],
   "source": [
    "def RSA_Algorithm():\n",
    "    p = int(input('Enter the value of p = ')) \n",
    "    q = int(input('Enter the value of q = ')) \n",
    "    no = int(ascii_text)\n",
    "    n = p*q \n",
    "    t = (p-1)*(q-1) \n",
    "  \n",
    "    for e in range(2,t): \n",
    "        if gcd(e,t)== 1: \n",
    "            break\n",
    "    for i in range(1,10): \n",
    "        x = 1 + i*t \n",
    "        if x % e == 0: \n",
    "            d = int(x/e) \n",
    "            break\n",
    "    ctt = Decimal(0) \n",
    "    ctt =pow(no,e) \n",
    "    ct = ctt % n \n",
    "  \n",
    "    dtt = Decimal(0) \n",
    "    dtt = pow(ct,d) \n",
    "    dt = dtt % n \n",
    "  \n",
    "    print('n = '+str(n))\n",
    "    print('e = '+str(e))\n",
    "    print('t = '+str(t))\n",
    "    print('d = '+str(d))\n",
    "    print('cipher text = '+str(ct))\n",
    "    print('decrypted text = '+str(dt))\n",
    "    return str(ct)"
   ]
  },
  {
   "cell_type": "code",
   "execution_count": 37,
   "metadata": {},
   "outputs": [
    {
     "name": "stdout",
     "output_type": "stream",
     "text": [
      "Enter the value of p = 5\n",
      "Enter the value of q = 11\n",
      "n = 55\n",
      "e = 3\n",
      "t = 40\n",
      "d = 27\n",
      "cipher text = 27\n",
      "decrypted text = 3\n"
     ]
    }
   ],
   "source": [
    "cipherText = RSA_Algorithm()"
   ]
  },
  {
   "cell_type": "code",
   "execution_count": 38,
   "metadata": {},
   "outputs": [
    {
     "name": "stdout",
     "output_type": "stream",
     "text": [
      "0116010401050115003201050115003201150111003200990111011101080033\n"
     ]
    }
   ],
   "source": [
    "#paraphrase string in ascii \n",
    "print(ascii_text)"
   ]
  },
  {
   "cell_type": "code",
   "execution_count": 39,
   "metadata": {},
   "outputs": [],
   "source": [
    "#Creating a function that will split the\n",
    "#ascii string dependening on bit size of character\n",
    "def splitString(text, size):\n",
    "    arr = []\n",
    "    i = 0\n",
    "    j = size \n",
    "    for x in range(0, (len(text)//size)):\n",
    "        arr.append(int(text[i:j]))\n",
    "        i = j \n",
    "        j = j + size   \n",
    "    return arr"
   ]
  },
  {
   "cell_type": "code",
   "execution_count": 43,
   "metadata": {},
   "outputs": [
    {
     "name": "stdout",
     "output_type": "stream",
     "text": [
      "[116, 104, 105, 115, 32, 105, 115, 32, 115, 111, 32, 99, 111, 111, 108, 33] SIZE:16\n"
     ]
    }
   ],
   "source": [
    "split_plaintext = splitString(ascii_text, bitSize)\n",
    "print(split_plaintext, \"SIZE:\" + str(len(split_plaintext)))"
   ]
  },
  {
   "cell_type": "code",
   "execution_count": 44,
   "metadata": {},
   "outputs": [],
   "source": [
    "#Creating a function that will use\n",
    "#random pseudo generator to get pixel's location\n",
    "#parameters: range (a, b)\n",
    "def randomGeneratePixels(password, text_size, a, b):\n",
    "    arr = []\n",
    "    random.seed(password)\n",
    "    for i in range(0, text_size):\n",
    "        randVal = random.randint(a, b)\n",
    "        pixelRow = randVal//im.size[0]\n",
    "        pixelColumn = randVal%im.size[1]\n",
    "        arr.append((pixelRow, pixelColumn))\n",
    "    return arr"
   ]
  },
  {
   "cell_type": "code",
   "execution_count": 45,
   "metadata": {},
   "outputs": [
    {
     "name": "stdout",
     "output_type": "stream",
     "text": [
      "[(78, 1855), (60, 724), (60, 800), (27, 1247), (45, 135), (9, 351), (36, 1275), (13, 1746), (2, 1899), (0, 649), (13, 1720), (53, 14), (46, 1879), (20, 1377), (66, 1766), (67, 1183)]\n"
     ]
    }
   ],
   "source": [
    "pixel_Arr = randomGeneratePixels(password, len(split_plaintext), 0, 133333)\n",
    "print(pixel_Arr)"
   ]
  },
  {
   "cell_type": "code",
   "execution_count": 46,
   "metadata": {},
   "outputs": [],
   "source": [
    "#Return pixels' RGB value\n",
    "def randomGenerateRGB(p_arr):\n",
    "    arr=[]\n",
    "    im.convert(\"RGB\")    \n",
    "    for i in range(0, (len(p_arr))):\n",
    "        curr_pixel = p_arr[i]\n",
    "        rgbValue = im.getpixel((curr_pixel[0], curr_pixel[1]))\n",
    "        arr.append(rgbValue)\n",
    "    return arr"
   ]
  },
  {
   "cell_type": "code",
   "execution_count": 47,
   "metadata": {},
   "outputs": [
    {
     "name": "stdout",
     "output_type": "stream",
     "text": [
      "[(199, 208, 217), (28, 25, 20), (48, 45, 40), (125, 108, 92), (46, 52, 14), (74, 74, 74), (206, 202, 190), (135, 143, 154), (222, 227, 231), (68, 66, 67), (108, 112, 123), (38, 33, 27), (160, 164, 191), (132, 120, 104), (72, 79, 89), (101, 91, 92)]\n"
     ]
    }
   ],
   "source": [
    "RGB_Arr = randomGenerateRGB(pixel_Arr)\n",
    "print(RGB_Arr)"
   ]
  },
  {
   "cell_type": "code",
   "execution_count": 48,
   "metadata": {},
   "outputs": [],
   "source": [
    "#Change RGB values in sequence and substitute for the corresponding character's ascii value\n",
    "#args(quantity, password, bits)\n",
    "def replacePixels(rgb_arr, split_p):\n",
    "    arr = []\n",
    "    color = 'r'\n",
    "\n",
    "    bin_c = 0\n",
    "    for i in range(0, len(rgb_arr)):\n",
    "        curr_pixel = list(rgb_arr[i])\n",
    "        bin_p = format(split_p[i], '08b')\n",
    "        \n",
    "        if color == 'r': \n",
    "            bin_g = format(curr_pixel[1], '08b') #binary number for green\n",
    "            bin_b = format(curr_pixel[2], '08b') #binary number for blue\n",
    "            curr_pixel[1] = int(bin_g[:4] + bin_p[:4], 2)  #change last 4 bits in green\n",
    "            curr_pixel[2] = int(bin_b[:4] + bin_p[4:], 2)  #change last 4 bits in blue\n",
    "            color = 'g'\n",
    "        elif color == 'g': \n",
    "            bin_r = format(curr_pixel[0], '08b') #binary number for red\n",
    "            bin_b = format(curr_pixel[2], '08b') #binary number for blue\n",
    "            curr_pixel[0] = int(bin_r[:4] + bin_p[:4], 2)  #change last 4 bits in red\n",
    "            curr_pixel[2] = int(bin_b[:4] + bin_p[4:], 2)  #change last 4 bits in blue  \n",
    "            color = 'b'\n",
    "        elif color == 'b':\n",
    "            bin_r = format(curr_pixel[0], '08b') #binary number for blue\n",
    "            bin_g = format(curr_pixel[1], '08b') #binary number for green\n",
    "            curr_pixel[0] = int(bin_r[:4] + bin_p[:4], 2)  #change last 4 bits in red\n",
    "            curr_pixel[1] = int(bin_g[:4] + bin_p[4:], 2)  #change last 4 bits in green   \n",
    "            color = 'r'\n",
    "            \n",
    "        arr.append(curr_pixel)\n",
    "      \n",
    "    return arr;"
   ]
  },
  {
   "cell_type": "code",
   "execution_count": 49,
   "metadata": {},
   "outputs": [
    {
     "name": "stdout",
     "output_type": "stream",
     "text": [
      "[[199, 215, 212], [22, 25, 24], [54, 41, 40], [125, 103, 83], [34, 52, 0], [70, 73, 74], [206, 199, 179], [130, 143, 144], [215, 227, 231], [68, 70, 79], [98, 112, 112], [38, 35, 27], [160, 166, 191], [134, 120, 111], [70, 76, 89], [101, 82, 81]]\n"
     ]
    }
   ],
   "source": [
    "#Setting the array with the new RGB values to the variable\n",
    "replaced_RGB_Arr = replacePixels(RGB_Arr, split_plaintext)\n",
    "print(replaced_RGB_Arr)"
   ]
  },
  {
   "cell_type": "code",
   "execution_count": 50,
   "metadata": {},
   "outputs": [],
   "source": [
    "#Creating function that will save the modified image\n",
    "def modimagetest(im, rgb_arr, p_arr): \n",
    "    px = im.load()  # Get the pixels in the image\n",
    " \n",
    "    for i in range(0, len(p_arr)):\n",
    "        val = p_arr[i]\n",
    "        px[val[0], val[1]] = tuple(rgb_arr[i])\n",
    "    im.show()\n",
    "    im.save(\"test.tiff\") # You can save the modified image"
   ]
  },
  {
   "cell_type": "code",
   "execution_count": 51,
   "metadata": {},
   "outputs": [],
   "source": [
    "modimagetest(Image.open(IMAGE_FILE), replaced_RGB_Arr, pixel_Arr)"
   ]
  },
  {
   "cell_type": "code",
   "execution_count": null,
   "metadata": {},
   "outputs": [],
   "source": [
    "# Enter the name of your image here to decrypt the message\n",
    "IMAGE_FILE2 = \"test.tiff\"\n",
    "im2 = Image.open(IMAGE_FILE2)\n",
    "\n",
    "IMAGE_FILE=str(input(\"Please enter the filename of your image that you want to decrypt: \"))\n",
    "\n",
    "if IMAGE_FILE2 == \"\":\n",
    "    print (\"Invalid entry. Image will default to picture of a cute dog with a cool message\")\n",
    "    IMAGE_FILE=\"test.tiff\"\n",
    "elif IMAGE_FILE2.lower() == \"test.tiff\".lower():\n",
    "    print (\"Great choice! Loading image of Lila with message...\")\n",
    "if IMAGE_FILE.lower() != \"lila.tiff\".lower():\n",
    "    print (\"We cannot decrypt this file.\")"
   ]
  },
  {
   "cell_type": "code",
   "execution_count": 52,
   "metadata": {},
   "outputs": [],
   "source": [
    "#Setting the decrypted array to the random generator function\n",
    "IMAGE_FILE2 = \"test.tiff\"  # Enter the name of your image here.\n",
    "im2 = Image.open(IMAGE_FILE2)"
   ]
  },
  {
   "cell_type": "code",
   "execution_count": 53,
   "metadata": {},
   "outputs": [
    {
     "name": "stdout",
     "output_type": "stream",
     "text": [
      "[(78, 1855), (60, 724), (60, 800), (27, 1247), (45, 135), (9, 351), (36, 1275), (13, 1746), (2, 1899), (0, 649), (13, 1720), (53, 14), (46, 1879), (20, 1377), (66, 1766), (67, 1183)]\n"
     ]
    }
   ],
   "source": [
    "dec_Arr = randomGeneratePixels(password, len(split_plaintext), 0, 133333)\n",
    "print(dec_Arr)"
   ]
  },
  {
   "cell_type": "code",
   "execution_count": 54,
   "metadata": {},
   "outputs": [],
   "source": [
    "#Creating function that will decrypt the hidden message in picture\n",
    "def getHiddenMessage(d_arr):\n",
    "    px = im2.load() \n",
    "    im2.convert(\"RGB\")  \n",
    "    \n",
    "    p_arr = []\n",
    "    color = 'r'\n",
    "    curr_pixel = ()\n",
    "    \n",
    "    for i in range(0, len(d_arr)):\n",
    "        \n",
    "        curr_pixel = list(d_arr[i])\n",
    "        rgbValue = im2.getpixel((curr_pixel[0], curr_pixel[1]))\n",
    "        \n",
    "        if color == 'r':\n",
    "            bin_g = format(rgbValue[1], '08b') #binary number for red\n",
    "            bin_b = format(rgbValue[2], '08b') #binary number for blue\n",
    "            hidden_c = int(bin_g[4:] + bin_b[4:], 2)  #change last 4 bits in blue\n",
    "            color = 'g'\n",
    "            \n",
    "        elif color == 'g': \n",
    "            bin_r = format(rgbValue[0], '08b') #binary number for red\n",
    "            bin_b = format(rgbValue[2], '08b') #binary number for blue\n",
    "            hidden_c = int(bin_r[4:] + bin_b[4:], 2)  #change last 4 bits in blue\n",
    "            color = 'b'\n",
    "        elif color == 'b':\n",
    "            bin_r = format(rgbValue[0], '08b') #binary number for red\n",
    "            bin_g = format(rgbValue[1], '08b') #binary number for blue\n",
    "            hidden_c = int(bin_r[4:] + bin_g[4:], 2)  #change last 4 bits in blue\n",
    "            color = 'r'\n",
    "            \n",
    "        p_arr.append(hidden_c)\n",
    "        print(hidden_c)\n",
    "        \n",
    "    s=\"\"\n",
    "    for i in range(0, len(d_arr)):\n",
    "         s+= chr(p_arr[i]) \n",
    "    return s\n",
    "    "
   ]
  },
  {
   "cell_type": "code",
   "execution_count": 55,
   "metadata": {},
   "outputs": [
    {
     "name": "stdout",
     "output_type": "stream",
     "text": [
      "116\n",
      "104\n",
      "105\n",
      "115\n",
      "32\n",
      "105\n",
      "115\n",
      "32\n",
      "115\n",
      "111\n",
      "32\n",
      "99\n",
      "111\n",
      "111\n",
      "108\n",
      "33\n"
     ]
    },
    {
     "data": {
      "text/plain": [
       "'this is so cool!'"
      ]
     },
     "execution_count": 55,
     "metadata": {},
     "output_type": "execute_result"
    }
   ],
   "source": [
    "getHiddenMessage(dec_Arr)"
   ]
  },
  {
   "cell_type": "code",
   "execution_count": null,
   "metadata": {},
   "outputs": [],
   "source": []
  },
  {
   "cell_type": "code",
   "execution_count": null,
   "metadata": {},
   "outputs": [],
   "source": []
  }
 ],
 "metadata": {
  "kernelspec": {
   "display_name": "Python 3",
   "language": "python",
   "name": "python3"
  },
  "language_info": {
   "codemirror_mode": {
    "name": "ipython",
    "version": 3
   },
   "file_extension": ".py",
   "mimetype": "text/x-python",
   "name": "python",
   "nbconvert_exporter": "python",
   "pygments_lexer": "ipython3",
   "version": "3.7.6"
  }
 },
 "nbformat": 4,
 "nbformat_minor": 2
}
